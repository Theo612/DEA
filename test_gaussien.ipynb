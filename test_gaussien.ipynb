{
 "cells": [
  {
   "cell_type": "markdown",
   "metadata": {},
   "source": [
    "Générateur distribution gaussienne (cluster=1) / distribution de clusters"
   ]
  },
  {
   "cell_type": "code",
   "execution_count": 1,
   "metadata": {},
   "outputs": [],
   "source": [
    "import numpy as np\n",
    "import pandas as pd\n",
    "import os\n",
    "import itertools\n",
    "from sklearn.datasets import make_blobs\n",
    "from sklearn.preprocessing import MinMaxScaler"
   ]
  },
  {
   "cell_type": "code",
   "execution_count": null,
   "metadata": {},
   "outputs": [],
   "source": [
    "def generation_donnees(nb_echantillons, ecart_type, nb_centres, nb_caracteristiques, graine_aleatoire):\n",
    "    \"\"\"Génère des données synthétiques normalisées avec une distribution de clusters\n",
    "    ou une distribution gaussienne (en fixant le nombre de centres à 1).\n",
    "\n",
    "    Args:\n",
    "        nb_echantillons (int): nombre d'échantillons (répartis également entre les clusters)\n",
    "        ecart_type (float): écart type des clusters\n",
    "        nb_centres (int): nombre de clusters\n",
    "        nb_caracteristiques (int): nombre de caractéristiques pour chaque échantillon\n",
    "        graine_aleatoire (int): graine pour la génération aléatoire, pour la reproductibilité\n",
    "\n",
    "    Returns:\n",
    "        numpy array: tableau Xnorm des échantillons générés et normalisés\n",
    "        numpy array: tableau y des étiquettes de cluster pour chaque échantillon\n",
    "    \"\"\"\n",
    "    X, y = make_blobs(n_samples=nb_echantillons, cluster_std=ecart_type, centers=nb_centres, \n",
    "                      n_features=nb_caracteristiques, random_state=graine_aleatoire, return_centers=False)\n",
    "    scaler = MinMaxScaler()\n",
    "    Xnorm = scaler.fit_transform(X) \n",
    "    return Xnorm, y"
   ]
  },
  {
   "cell_type": "code",
   "execution_count": null,
   "metadata": {},
   "outputs": [],
   "source": [
    "def noms_colonnes(nb_caracteristiques):\n",
    "    \"\"\"Définit les noms des colonnes pour le fichier CSV des données générées.\n",
    "    Chaque colonne représente une caractéristique, et une colonne finale spécifie le cluster de chaque échantillon.\n",
    "\n",
    "    Args:\n",
    "        nb_caracteristiques (int): nombre de caractéristiques pour chaque échantillon\n",
    "\n",
    "    Returns:\n",
    "        list: liste des noms de colonnes à inclure dans le fichier CSV généré\n",
    "    \"\"\"\n",
    "    colonnes_caracteristiques = [f'caracteristique_{i}' for i in range(1, nb_caracteristiques + 1)]\n",
    "    return colonnes_caracteristiques + ['cluster']"
   ]
  },
  {
   "cell_type": "code",
   "execution_count": null,
   "metadata": {},
   "outputs": [],
   "source": [
    "def nom_fichier(dossiers_sortie, nb_echantillons, ecart_type, nb_centres, nb_caracteristiques, df, repetition):\n",
    "    \"\"\"Crée un fichier CSV contenant les données générées.\n",
    "\n",
    "    Args:\n",
    "        dossiers_sortie (list): chemins vers les répertoires pour sauvegarder les données\n",
    "        nb_echantillons (int): nombre d'échantillons\n",
    "        ecart_type (float): écart type des clusters\n",
    "        nb_centres (int): nombre de clusters\n",
    "        nb_caracteristiques (int): nombre de caractéristiques\n",
    "        df (pandas dataframe): données à sauvegarder\n",
    "        repetition (int): numéro de répétition\n",
    "    \"\"\"\n",
    "    if nb_centres == 1: \n",
    "        chemin_fichier = os.path.join(dossiers_sortie[0], f\"gaussienne_{nb_echantillons}_{ecart_type}_{nb_centres}_{nb_caracteristiques}_{repetition}.csv\")\n",
    "    else:\n",
    "        chemin_fichier = os.path.join(dossiers_sortie[1], f\"cluster_{nb_echantillons}_{ecart_type}_{nb_centres}_{nb_caracteristiques}_{repetition}.csv\")\n",
    "    df.to_csv(chemin_fichier, index=False)\n"
   ]
  },
  {
   "cell_type": "code",
   "execution_count": null,
   "metadata": {},
   "outputs": [],
   "source": [
    "def produit_cartesien(nb_echantillons, ecarts_types, nb_centres, nb_caracteristiques):\n",
    "    \"\"\"Retourne le produit cartésien des paramètres.\n",
    "\n",
    "    Args:\n",
    "        nb_echantillons (list): liste des tailles d'échantillons\n",
    "        ecarts_types (list): liste des écarts types\n",
    "        nb_centres (list): liste des nombres de clusters\n",
    "        nb_caracteristiques (list): liste des nombres de caractéristiques\n",
    "\n",
    "    Returns:\n",
    "        set: ensemble des combinaisons de paramètres\n",
    "    \"\"\"\n",
    "    return set(itertools.product(nb_echantillons, ecarts_types, nb_centres, nb_caracteristiques))"
   ]
  },
  {
   "cell_type": "code",
   "execution_count": null,
   "metadata": {},
   "outputs": [],
   "source": [
    "def test_parametres(nb_echantillons, ecarts_types, nb_centres, nb_caracteristiques, graine_aleatoire, dossiers_sortie, repetitions=5):\n",
    "    \"\"\"Génère les données pour toutes les combinaisons possibles de paramètres\n",
    "    et les sauvegarde dans des fichiers CSV.\n",
    "\n",
    "    Args:\n",
    "        nb_echantillons (list): liste des tailles d'échantillons\n",
    "        ecarts_types (list): liste des écarts types\n",
    "        nb_centres (list): liste des nombres de clusters\n",
    "        nb_caracteristiques (list): liste des nombres de caractéristiques\n",
    "        graine_aleatoire (int): graine pour la génération aléatoire\n",
    "        dossiers_sortie (list): chemins des répertoires où sauvegarder les données\n",
    "        repetitions (int): nombre de répétitions pour chaque combinaison\n",
    "    \"\"\"\n",
    "    combinaisons = produit_cartesien(nb_echantillons, ecarts_types, nb_centres, nb_caracteristiques)\n",
    "    for rep in range(repetitions):\n",
    "        for parametres in combinaisons:\n",
    "            echantillons, ecart, centres, caracteristiques = parametres\n",
    "            X, y = generation_donnees(echantillons, ecart, centres, caracteristiques, graine_aleatoire)\n",
    "            donnees = np.concatenate([X, y.reshape(-1, 1).astype(int)], axis=1)\n",
    "            noms = noms_colonnes(caracteristiques)\n",
    "            df = pd.DataFrame(donnees, columns=noms)\n",
    "            nom_fichier(dossiers_sortie, echantillons, ecart, centres, caracteristiques, df, rep)"
   ]
  },
  {
   "cell_type": "code",
   "execution_count": null,
   "metadata": {},
   "outputs": [],
   "source": [
    "def generateur_gaussien_cluster(nb_echantillons=[i for i in range(100, 4001, 100)], \n",
    "                                ecarts_types=[0.0, 0.5, 1.0], \n",
    "                                nb_centres=[1, 2, 4, 6, 8, 10], \n",
    "                                nb_caracteristiques=[2**j for j in range(2, 8)], \n",
    "                                graine_aleatoire=0):\n",
    "    \"\"\"Fonction principale pour générer les données et les sauvegarder.\n",
    "\n",
    "    Args:\n",
    "        nb_echantillons (list): tailles des échantillons\n",
    "        ecarts_types (list): écarts types des clusters\n",
    "        nb_centres (list): nombres de clusters\n",
    "        nb_caracteristiques (list): liste des dimensions\n",
    "        graine_aleatoire (int): graine pour la génération aléatoire, pour reproductibilité\n",
    "    \"\"\"\n",
    "    dossier_gaussien = os.path.join(os.environ.get(\"CHEMIN_GENERATION_DONNEES\", \"\"), \"resultats_Gaussienne\")\n",
    "    if not os.path.exists(dossier_gaussien):\n",
    "        os.makedirs(dossier_gaussien)\n",
    "\n",
    "    dossier_clusters = os.path.join(os.environ.get(\"CHEMIN_GENERATION_DONNEES\", \"\"), \"resultats_Clusters\")\n",
    "    if not os.path.exists(dossier_clusters):\n",
    "        os.makedirs(dossier_clusters)\n",
    "\n",
    "    dossiers_sortie = [dossier_gaussien, dossier_clusters]\n",
    "    test_parametres(nb_echantillons, ecarts_types, nb_centres, nb_caracteristiques, graine_aleatoire, dossiers_sortie)\n"
   ]
  },
  {
   "cell_type": "code",
   "execution_count": null,
   "metadata": {},
   "outputs": [],
   "source": [
    "generateur_gaussien_cluster()"
   ]
  }
 ],
 "metadata": {
  "kernelspec": {
   "display_name": "ima2",
   "language": "python",
   "name": "python3"
  },
  "language_info": {
   "codemirror_mode": {
    "name": "ipython",
    "version": 3
   },
   "file_extension": ".py",
   "mimetype": "text/x-python",
   "name": "python",
   "nbconvert_exporter": "python",
   "pygments_lexer": "ipython3",
   "version": "3.12.2"
  }
 },
 "nbformat": 4,
 "nbformat_minor": 2
}
