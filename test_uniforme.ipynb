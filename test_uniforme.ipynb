{
 "cells": [
  {
   "cell_type": "markdown",
   "metadata": {},
   "source": [
    "Générateur données uniformes"
   ]
  },
  {
   "cell_type": "code",
   "execution_count": 1,
   "metadata": {},
   "outputs": [],
   "source": [
    "import numpy as np\n",
    "import pandas as pd\n",
    "import os\n",
    "import itertools"
   ]
  },
  {
   "cell_type": "code",
   "execution_count": 2,
   "metadata": {},
   "outputs": [],
   "source": [
    "def generation_donnees(borne_inf, borne_sup, taille):\n",
    "    \"\"\"Génère des données synthétiques normalisées avec une distribution uniforme.\n",
    "\n",
    "    Arguments:\n",
    "        borne_inf (float): limite inférieure de l'intervalle des valeurs générées\n",
    "        borne_sup (float): limite supérieure de l'intervalle des valeurs générées\n",
    "        taille (tuple de longueur 2): tuple (nombre d'échantillons, nombre de caractéristiques) définissant la taille des données\n",
    "\n",
    "    Renvoi:\n",
    "        numpy array: tableau des échantillons générés et normalisés\n",
    "    \"\"\"\n",
    "    tableau_uniforme = np.random.uniform(low=borne_inf, high=borne_sup, size=taille)\n",
    "    return tableau_uniforme\n"
   ]
  },
  {
   "cell_type": "code",
   "execution_count": 3,
   "metadata": {},
   "outputs": [],
   "source": [
    "def noms_colonnes(nb_caracteristiques):\n",
    "    \"\"\"Définit les noms des colonnes pour le fichier CSV des données générées.\n",
    "    \n",
    "    Arguments:\n",
    "        nb_caracteristiques (int): nombre de caractéristiques par échantillon\n",
    "\n",
    "    Renvoi:\n",
    "        list: liste des noms de colonnes à inclure dans le fichier CSV\n",
    "    \"\"\"\n",
    "    colonnes_caracteristiques = []\n",
    "    for i in range(1, nb_caracteristiques + 1):   \n",
    "        colonnes_caracteristiques.append(f'caracteristique_{i}')\n",
    "    return colonnes_caracteristiques\n"
   ]
  },
  {
   "cell_type": "code",
   "execution_count": 4,
   "metadata": {},
   "outputs": [],
   "source": [
    "def nom_fichier(dossier_sortie, borne_inf, borne_sup, nb_echantillons, nb_caracteristiques, df, repetition):\n",
    "    \"\"\"Crée un fichier CSV contenant les données générées.\n",
    "\n",
    "    Arguments:\n",
    "        dossier_sortie (str): chemin vers le répertoire où sauvegarder les données\n",
    "        borne_inf (float): limite inférieure des valeurs générées\n",
    "        borne_sup (float): limite supérieure des valeurs générées\n",
    "        nb_echantillons (int): nombre d'échantillons\n",
    "        nb_caracteristiques (int): nombre de caractéristiques par échantillon\n",
    "        df (pandas dataframe): dataframe contenant les données générées\n",
    "        repetition (int): numéro de répétition pour différencier les fichiers\n",
    "    \"\"\"\n",
    "    chemin_fichier = os.path.join(dossier_sortie, f\"uniforme_{borne_inf}_{borne_sup}_{nb_echantillons}_{nb_caracteristiques}_{repetition}.csv\")\n",
    "    df.to_csv(chemin_fichier, index=False)"
   ]
  },
  {
   "cell_type": "code",
   "execution_count": 6,
   "metadata": {},
   "outputs": [],
   "source": [
    "def produit_cartesien(liste_echantillons, liste_caracteristiques):\n",
    "    \"\"\"Retourne le produit cartésien des tailles d'échantillons et des nombres de caractéristiques.\n",
    "\n",
    "    Arguments:\n",
    "        liste_echantillons (list): liste des tailles d'échantillons\n",
    "        liste_caracteristiques (list): liste des nombres de caractéristiques\n",
    "\n",
    "    Renvoi:\n",
    "        set: ensemble des combinaisons possibles\n",
    "    \"\"\"\n",
    "    return set(itertools.product(liste_echantillons, liste_caracteristiques))"
   ]
  },
  {
   "cell_type": "code",
   "execution_count": 5,
   "metadata": {},
   "outputs": [],
   "source": [
    "def test_parametres(borne_inf, borne_sup, liste_echantillons, liste_caracteristiques, dossier_sortie, repetitions=5):\n",
    "    \"\"\"Génère des données pour toutes les combinaisons possibles de paramètres et les sauvegarde dans des fichiers CSV.\n",
    "\n",
    "    Arguments:\n",
    "        borne_inf (float): limite inférieure des valeurs générées\n",
    "        borne_sup (float): limite supérieure des valeurs générées\n",
    "        liste_echantillons (list): liste des tailles d'échantillons\n",
    "        liste_caracteristiques (list): liste des nombres de caractéristiques\n",
    "        dossier_sortie (str): répertoire où sauvegarder les fichiers\n",
    "        repetitions (int): nombre de répétitions pour chaque combinaison\n",
    "    \"\"\"\n",
    "    combinaisons = produit_cartesien(liste_echantillons, liste_caracteristiques)\n",
    "    for rep in range(repetitions):\n",
    "        for params in combinaisons: \n",
    "            nb_echantillons, nb_caracteristiques = params\n",
    "            taille = (nb_echantillons, nb_caracteristiques)\n",
    "            donnees_uniformes = generation_donnees(borne_inf, borne_sup, taille)\n",
    "            noms = noms_colonnes(nb_caracteristiques)\n",
    "            df = pd.DataFrame(donnees_uniformes, columns=noms)\n",
    "            nom_fichier(dossier_sortie, borne_inf, borne_sup, nb_echantillons, nb_caracteristiques, df, rep)"
   ]
  },
  {
   "cell_type": "code",
   "execution_count": 7,
   "metadata": {},
   "outputs": [],
   "source": [
    "def generateur_uniforme(borne_inf=0.0, borne_sup=1.0, \n",
    "                        liste_echantillons=[i for i in range(100, 4001, 100)], \n",
    "                        liste_caracteristiques=[2**j for j in range(2, 8)]):\n",
    "    \"\"\"Fonction principale qui crée les données et les sauvegarde dans des fichiers CSV.\n",
    "\n",
    "    Arguments:\n",
    "        borne_inf (float): limite inférieure des valeurs générées (par défaut, 0.0)\n",
    "        borne_sup (float): limite supérieure des valeurs générées (par défaut, 1.0)\n",
    "        liste_echantillons (list): liste des tailles d'échantillons (par défaut, de 100 à 4000 avec un pas de 100)\n",
    "        liste_caracteristiques (list): liste des dimensions de données (par défaut, 4, 8, 16, 32, 64, 128)\n",
    "    \"\"\"\n",
    "    dossier_sortie = os.path.join(os.environ.get(\"CHEMIN_GENERATION_DONNEES\", \"\"), \"resultats_uniforme\")\n",
    "    if not os.path.exists(dossier_sortie):\n",
    "        os.makedirs(dossier_sortie)\n",
    "\n",
    "    test_parametres(borne_inf, borne_sup, liste_echantillons, liste_caracteristiques, dossier_sortie)"
   ]
  },
  {
   "cell_type": "code",
   "execution_count": 8,
   "metadata": {},
   "outputs": [],
   "source": [
    "generateur_uniforme()"
   ]
  }
 ],
 "metadata": {
  "kernelspec": {
   "display_name": "ima2",
   "language": "python",
   "name": "python3"
  },
  "language_info": {
   "codemirror_mode": {
    "name": "ipython",
    "version": 3
   },
   "file_extension": ".py",
   "mimetype": "text/x-python",
   "name": "python",
   "nbconvert_exporter": "python",
   "pygments_lexer": "ipython3",
   "version": "3.12.2"
  }
 },
 "nbformat": 4,
 "nbformat_minor": 2
}
